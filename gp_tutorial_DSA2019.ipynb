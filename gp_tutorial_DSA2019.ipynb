{
 "cells": [
  {
   "cell_type": "code",
   "execution_count": 1,
   "metadata": {},
   "outputs": [],
   "source": [
    "import matplotlib;matplotlib.rcParams['figure.figsize'] = (8,5)\n",
    "import matplotlib;matplotlib.rcParams['text.usetex'] = True\n",
    "import matplotlib;matplotlib.rcParams['font.size'] = 16\n",
    "import matplotlib;matplotlib.rcParams['font.family'] = 'serif'\n",
    "import GPy\n",
    "import numpy as np\n",
    "import pandas as pd\n",
    "from matplotlib import pyplot as plt"
   ]
  },
  {
   "cell_type": "markdown",
   "metadata": {},
   "source": [
    "# Gaussian Process Regression  "
   ]
  },
  {
   "cell_type": "markdown",
   "metadata": {},
   "source": [
    "Analysis of [AIM-94 ICU Time Series dataset](https://archive.ics.uci.edu/ml/datasets/ICU)"
   ]
  },
  {
   "cell_type": "markdown",
   "metadata": {},
   "source": [
    "Here is the description of the patient that was observed:  \n",
    "  \n",
    "8.5 month old female with biliary atresia, S/P (surgical procedure) \n",
    "Kasai procedure, ascending cholangitis with a history of\n",
    "multiple liver abscesses and portal hypertension.  She was transferred to\n",
    "The Children's Hospital after a 15 day history of E. Coli sepsis, worsening\n",
    "despite antibiotic therapy and other supportive measures.  She currently is\n",
    "in liver failure with coagulopathy.  She has required mechanical\n",
    "ventilatory support due to the ARDS that followed the onset of sepsis.\n",
    "\n",
    "Her admission body weight is 5 kg.\n",
    "\n",
    "In addition to medications listed in data set, the patient receives:\n",
    "\n",
    "Oral nystatin  \n",
    "Ativan 0.5 mg IV every 6 hours  \n",
    "Amphotericin bladder irrigation every 12 hours  \n",
    "Nebulized ventolin PRN  \n",
    "Maalox 10cc by nasogastric tube every 6 hours for gastric pH < 5  "
   ]
  },
  {
   "cell_type": "code",
   "execution_count": 2,
   "metadata": {},
   "outputs": [],
   "source": [
    "icu_data = pd.read_csv('aim94_map_data_for_DSA.csv',header=0)"
   ]
  },
  {
   "cell_type": "markdown",
   "metadata": {},
   "source": [
    "Now let's take a look at the patient time series. We'll focus our analysis on mean arterial pressure, the average pressure in a patient’s arteries during one cardiac cycle. The blue region from 35000 seconds up to the end of the time series will be set aside to test the predictions of our model."
   ]
  },
  {
   "cell_type": "code",
   "execution_count": 3,
   "metadata": {},
   "outputs": [
    {
     "data": {
      "image/png": "[encoded data removed]",
      "text/plain": [
       "<Figure size 432x288 with 1 Axes>"
      ]
     },
     "metadata": {
      "needs_background": "light"
     },
     "output_type": "display_data"
    }
   ],
   "source": [
    "%matplotlib inline\n",
    "\n",
    "end_of_series = np.max(icu_data.iloc[:,0].values)\n",
    "\n",
    "plt.plot(icu_data.iloc[:,0].values,icu_data.iloc[:,1],'-o',color='r',alpha=0.3,markersize=1)\n",
    "plt.xlabel('Time Since Start (seconds)')\n",
    "plt.ylabel('Mean Arterial Pressure (mm Hg)')\n",
    "plt.axvspan(35000,end_of_series,alpha=0.3,color='blue')\n",
    "\n",
    "plt.show()"
   ]
  },
  {
   "cell_type": "code",
   "execution_count": 8,
   "metadata": {},
   "outputs": [],
   "source": [
    "time_since_start = icu_data.iloc[:,0].values\n",
    "map_values = icu_data.iloc[:,1].values\n",
    "\n",
    "# we'll center the map values by substracting the mean\n",
    "map_values = map_values - np.mean(map_values)\n",
    "\n",
    "end_of_train = np.where(time_since_start >= 35000)[0][0]\n",
    "\n",
    "train_X = np.expand_dims(time_since_start[:end_of_train],1)\n",
    "train_Y = np.expand_dims(map_values[:end_of_train],1)\n",
    "test_X = np.expand_dims(time_since_start[end_of_train:],1)\n",
    "test_Y = np.expand_dims(map_values[end_of_train:],1)"
   ]
  },
  {
   "cell_type": "markdown",
   "metadata": {},
   "source": [
    "Now we'll specify our kernel (with default hyperparameter values for now)."
   ]
  },
  {
   "cell_type": "code",
   "execution_count": 17,
   "metadata": {},
   "outputs": [],
   "source": [
    "kernel = GPy.kern.RBF(input_dim=1, variance=1., lengthscale=10.)"
   ]
  },
  {
   "cell_type": "code",
   "execution_count": 18,
   "metadata": {},
   "outputs": [],
   "source": [
    "m = GPy.models.GPRegression(train_X,train_Y,kernel)"
   ]
  },
  {
   "cell_type": "code",
   "execution_count": 19,
   "metadata": {
    "scrolled": true
   },
   "outputs": [
    {
     "data": {
      "text/html": [
       "<style type=\"text/css\">\n",
       ".pd{\n",
       "    font-family: \"Courier New\", Courier, monospace !important;\n",
       "    width: 100%;\n",
       "    padding: 3px;\n",
       "}\n",
       "</style>\n",
       "\n",
       "<p class=pd>\n",
       "<b>Model</b>: GP regression<br>\n",
       "<b>Objective</b>: 20001.9203647064<br>\n",
       "<b>Number of Parameters</b>: 3<br>\n",
       "<b>Number of Optimization Parameters</b>: 3<br>\n",
       "<b>Updates</b>: True<br>\n",
       "</p>\n",
       "<style type=\"text/css\">\n",
       ".tg  {font-family:\"Courier New\", Courier, monospace !important;padding:2px 3px;word-break:normal;border-collapse:collapse;border-spacing:0;border-color:#DCDCDC;margin:0px auto;width:100%;}\n",
       ".tg td{font-family:\"Courier New\", Courier, monospace !important;font-weight:bold;color:#444;background-color:#F7FDFA;border-style:solid;border-width:1px;overflow:hidden;word-break:normal;border-color:#DCDCDC;}\n",
       ".tg th{font-family:\"Courier New\", Courier, monospace !important;font-weight:normal;color:#fff;background-color:#26ADE4;border-style:solid;border-width:1px;overflow:hidden;word-break:normal;border-color:#DCDCDC;}\n",
       ".tg .tg-left{font-family:\"Courier New\", Courier, monospace !important;font-weight:normal;text-align:left;}\n",
       ".tg .tg-center{font-family:\"Courier New\", Courier, monospace !important;font-weight:normal;text-align:center;}\n",
       ".tg .tg-right{font-family:\"Courier New\", Courier, monospace !important;font-weight:normal;text-align:right;}\n",
       "</style>\n",
       "<table class=\"tg\"><tr><th><b>  GP_regression.         </b></th><th><b>value</b></th><th><b>constraints</b></th><th><b>priors</b></th></tr>\n",
       "<tr><td class=tg-left>  rbf.variance           </td><td class=tg-right>  1.0</td><td class=tg-center>    +ve    </td><td class=tg-center>      </td></tr>\n",
       "<tr><td class=tg-left>  rbf.lengthscale        </td><td class=tg-right> 10.0</td><td class=tg-center>    +ve    </td><td class=tg-center>      </td></tr>\n",
       "<tr><td class=tg-left>  Gaussian_noise.variance</td><td class=tg-right>  1.0</td><td class=tg-center>    +ve    </td><td class=tg-center>      </td></tr>\n",
       "</table>"
      ],
      "text/plain": [
       "<GPy.models.gp_regression.GPRegression at 0x7fe34071d518>"
      ]
     },
     "metadata": {},
     "output_type": "display_data"
    },
    {
     "data": {
      "text/plain": [
       "{'dataplot': [<matplotlib.collections.PathCollection at 0x7fe3019d8e48>],\n",
       " 'gpmean': [[<matplotlib.lines.Line2D at 0x7fe3019d87f0>]],\n",
       " 'gpconfidence': [<matplotlib.collections.PolyCollection at 0x7fe303a7feb8>]}"
      ]
     },
     "execution_count": 19,
     "metadata": {},
     "output_type": "execute_result"
    },
    {
     "data": {
      "image/png": "[encoded data removed]",
      "text/plain": [
       "<Figure size 432x288 with 1 Axes>"
      ]
     },
     "metadata": {
      "needs_background": "light"
     },
     "output_type": "display_data"
    }
   ],
   "source": [
    "display(m)\n",
    "m.plot()"
   ]
  },
  {
   "cell_type": "code",
   "execution_count": 44,
   "metadata": {},
   "outputs": [
    {
     "name": "stdout",
     "output_type": "stream",
     "text": [
      "Optimization restart 1/10, f = 3790.1195636969032\n",
      "Optimization restart 2/10, f = 4499.0733929663065\n",
      "Optimization restart 3/10, f = 4499.0733929661355\n",
      "Optimization restart 4/10, f = 4499.073392966136\n",
      "Optimization restart 5/10, f = 4499.073392966326\n",
      "Optimization restart 6/10, f = 4499.073392966137\n",
      "Optimization restart 7/10, f = 4499.073392966138\n",
      "Optimization restart 8/10, f = 4499.073392966136\n",
      "Optimization restart 9/10, f = 4499.073392966136\n",
      "Optimization restart 10/10, f = 4499.073392966139\n"
     ]
    },
    {
     "data": {
      "text/plain": [
       "[<paramz.optimization.optimization.opt_lbfgsb at 0x7fe301a245f8>,\n",
       " <paramz.optimization.optimization.opt_lbfgsb at 0x7fe3407d0b70>,\n",
       " <paramz.optimization.optimization.opt_lbfgsb at 0x7fe301a24358>,\n",
       " <paramz.optimization.optimization.opt_lbfgsb at 0x7fe301a24668>,\n",
       " <paramz.optimization.optimization.opt_lbfgsb at 0x7fe301a24518>,\n",
       " <paramz.optimization.optimization.opt_lbfgsb at 0x7fe301a24080>,\n",
       " <paramz.optimization.optimization.opt_lbfgsb at 0x7fe301a242b0>,\n",
       " <paramz.optimization.optimization.opt_lbfgsb at 0x7fe301a247b8>,\n",
       " <paramz.optimization.optimization.opt_lbfgsb at 0x7fe301a24400>,\n",
       " <paramz.optimization.optimization.opt_lbfgsb at 0x7fe301a24748>,\n",
       " <paramz.optimization.optimization.opt_lbfgsb at 0x7fe34083ec88>,\n",
       " <paramz.optimization.optimization.opt_lbfgsb at 0x7fe34079ddd8>,\n",
       " <paramz.optimization.optimization.opt_lbfgsb at 0x7fe303a80e10>,\n",
       " <paramz.optimization.optimization.opt_lbfgsb at 0x7fe303cddc18>,\n",
       " <paramz.optimization.optimization.opt_lbfgsb at 0x7fe301a24da0>,\n",
       " <paramz.optimization.optimization.opt_lbfgsb at 0x7fe34062f400>,\n",
       " <paramz.optimization.optimization.opt_lbfgsb at 0x7fe34062f898>,\n",
       " <paramz.optimization.optimization.opt_lbfgsb at 0x7fe34062f940>,\n",
       " <paramz.optimization.optimization.opt_lbfgsb at 0x7fe34062f7f0>,\n",
       " <paramz.optimization.optimization.opt_lbfgsb at 0x7fe34062f828>,\n",
       " <paramz.optimization.optimization.opt_lbfgsb at 0x7fe301056f60>,\n",
       " <paramz.optimization.optimization.opt_lbfgsb at 0x7fe34062f6d8>,\n",
       " <paramz.optimization.optimization.opt_lbfgsb at 0x7fe30105eef0>,\n",
       " <paramz.optimization.optimization.opt_lbfgsb at 0x7fe30105e2b0>,\n",
       " <paramz.optimization.optimization.opt_lbfgsb at 0x7fe30105e3c8>,\n",
       " <paramz.optimization.optimization.opt_lbfgsb at 0x7fe30105e630>,\n",
       " <paramz.optimization.optimization.opt_lbfgsb at 0x7fe30105e5f8>,\n",
       " <paramz.optimization.optimization.opt_lbfgsb at 0x7fe3405a9588>,\n",
       " <paramz.optimization.optimization.opt_lbfgsb at 0x7fe3405a9e80>,\n",
       " <paramz.optimization.optimization.opt_lbfgsb at 0x7fe3405a9438>]"
      ]
     },
     "execution_count": 44,
     "metadata": {},
     "output_type": "execute_result"
    }
   ],
   "source": [
    "m.optimize_restarts(num_restarts = 10)"
   ]
  },
  {
   "cell_type": "code",
   "execution_count": 46,
   "metadata": {
    "scrolled": true
   },
   "outputs": [
    {
     "data": {
      "text/html": [
       "<style type=\"text/css\">\n",
       ".pd{\n",
       "    font-family: \"Courier New\", Courier, monospace !important;\n",
       "    width: 100%;\n",
       "    padding: 3px;\n",
       "}\n",
       "</style>\n",
       "\n",
       "<p class=pd>\n",
       "<b>Model</b>: GP regression<br>\n",
       "<b>Objective</b>: 3790.1195636969032<br>\n",
       "<b>Number of Parameters</b>: 3<br>\n",
       "<b>Number of Optimization Parameters</b>: 3<br>\n",
       "<b>Updates</b>: True<br>\n",
       "</p>\n",
       "<style type=\"text/css\">\n",
       ".tg  {font-family:\"Courier New\", Courier, monospace !important;padding:2px 3px;word-break:normal;border-collapse:collapse;border-spacing:0;border-color:#DCDCDC;margin:0px auto;width:100%;}\n",
       ".tg td{font-family:\"Courier New\", Courier, monospace !important;font-weight:bold;color:#444;background-color:#F7FDFA;border-style:solid;border-width:1px;overflow:hidden;word-break:normal;border-color:#DCDCDC;}\n",
       ".tg th{font-family:\"Courier New\", Courier, monospace !important;font-weight:normal;color:#fff;background-color:#26ADE4;border-style:solid;border-width:1px;overflow:hidden;word-break:normal;border-color:#DCDCDC;}\n",
       ".tg .tg-left{font-family:\"Courier New\", Courier, monospace !important;font-weight:normal;text-align:left;}\n",
       ".tg .tg-center{font-family:\"Courier New\", Courier, monospace !important;font-weight:normal;text-align:center;}\n",
       ".tg .tg-right{font-family:\"Courier New\", Courier, monospace !important;font-weight:normal;text-align:right;}\n",
       "</style>\n",
       "<table class=\"tg\"><tr><th><b>  GP_regression.         </b></th><th><b>             value</b></th><th><b>constraints</b></th><th><b>priors</b></th></tr>\n",
       "<tr><td class=tg-left>  rbf.variance           </td><td class=tg-right> 41.37437032518087</td><td class=tg-center>    +ve    </td><td class=tg-center>      </td></tr>\n",
       "<tr><td class=tg-left>  rbf.lengthscale        </td><td class=tg-right> 79.48834922723633</td><td class=tg-center>    +ve    </td><td class=tg-center>      </td></tr>\n",
       "<tr><td class=tg-left>  Gaussian_noise.variance</td><td class=tg-right>10.396282985155807</td><td class=tg-center>    +ve    </td><td class=tg-center>      </td></tr>\n",
       "</table>"
      ],
      "text/plain": [
       "<GPy.models.gp_regression.GPRegression at 0x7fe34071d518>"
      ]
     },
     "metadata": {},
     "output_type": "display_data"
    },
    {
     "data": {
      "text/plain": [
       "{'dataplot': [<matplotlib.collections.PathCollection at 0x7fe3010fe5f8>],\n",
       " 'gpmean': [[<matplotlib.lines.Line2D at 0x7fe30116a438>]],\n",
       " 'gpconfidence': [<matplotlib.collections.PolyCollection at 0x7fe30116a9b0>]}"
      ]
     },
     "execution_count": 46,
     "metadata": {},
     "output_type": "execute_result"
    },
    {
     "data": {
      "image/png": "[encoded data removed]",
      "text/plain": [
       "<Figure size 432x288 with 1 Axes>"
      ]
     },
     "metadata": {
      "needs_background": "light"
     },
     "output_type": "display_data"
    }
   ],
   "source": [
    "display(m)\n",
    "m.plot()"
   ]
  },
  {
   "cell_type": "markdown",
   "metadata": {},
   "source": [
    "Now let's see how well our model predicts the last roughly 10 minutes of the time series "
   ]
  },
  {
   "cell_type": "code",
   "execution_count": 47,
   "metadata": {},
   "outputs": [
    {
     "data": {
      "image/png": "[encoded data removed]",
      "text/plain": [
       "<Figure size 432x288 with 1 Axes>"
      ]
     },
     "metadata": {
      "needs_background": "light"
     },
     "output_type": "display_data"
    }
   ],
   "source": [
    "pred_Y,pred_Y_var = m.predict(test_X)\n",
    "\n",
    "plt.plot(test_X,test_Y,'ok')\n",
    "plt.plot(test_X,pred_Y,'-r')\n",
    "plt.plot(test_X,pred_Y+2*pred_Y_var**0.5,'--r')\n",
    "plt.plot(test_X,pred_Y-2*pred_Y_var**0.5,'--r')\n",
    "\n",
    "plt.show()"
   ]
  },
  {
   "cell_type": "markdown",
   "metadata": {},
   "source": [
    "# Gaussian Process Classification\n",
    "Analysis of [UCI Chronic Kidney Disease dataset](https://archive.ics.uci.edu/ml/datasets/Chronic_Kidney_Disease)"
   ]
  },
  {
   "cell_type": "code",
   "execution_count": 2,
   "metadata": {},
   "outputs": [
    {
     "name": "stdout",
     "output_type": "stream",
     "text": [
      "(400, 10)\n",
      "(249, 10)\n",
      "(151, 10)\n"
     ]
    }
   ],
   "source": [
    "ckd_data = pd.read_csv('chronic_kidney_disease_for_DSA_9.csv',header=0)\n",
    "print(ckd_data.shape)\n",
    "print(ckd_data.loc[ckd_data['class'] == 1].shape)\n",
    "print(ckd_data.loc[ckd_data['class'] == 0].shape)"
   ]
  },
  {
   "cell_type": "markdown",
   "metadata": {},
   "source": [
    "For the sake of this tutorial, we'll only deal with 'complete' data (rows with no missing entries). Data missingness is a common issue (esp. in the healthcare domain)."
   ]
  },
  {
   "cell_type": "code",
   "execution_count": 3,
   "metadata": {},
   "outputs": [],
   "source": [
    "missing_row_idx = pd.Series.any(pd.isna(ckd_data),1)\n",
    "ckd_data_no_missing = ckd_data.iloc[np.where(missing_row_idx.values.flatten() != True)[0],:]"
   ]
  },
  {
   "cell_type": "markdown",
   "metadata": {},
   "source": [
    "There are 9 feature columns and 1 label column.\n",
    "\n",
    "The feature columns are as follows:\n",
    "  \n",
    "| **Feature**  | **Description**  |  \n",
    "|---|---|  \n",
    "| age  | Age of patient  |  \n",
    "| bp  | Blood pressure  |  \n",
    "| bgr  | Blood glucose (random) |  \n",
    "| bu | Blood urea |  \n",
    "| sc | Serum creatinine |  \n",
    "| hemo | Hemoglobin |  \n",
    "| pcv | Packed cell volume |  \n",
    "| wbcc | White blood cell count |  \n",
    "| rbcc | Red blood cell count |  \n",
    "    \n",
    "The label column is called 'class' and takes values '1' (for the presence of chronic kidney disease) or '0' (for its absence)."
   ]
  },
  {
   "cell_type": "code",
   "execution_count": 46,
   "metadata": {},
   "outputs": [
    {
     "name": "stdout",
     "output_type": "stream",
     "text": [
      "(237, 10)\n",
      "(106, 10)\n",
      "(131, 10)\n"
     ]
    }
   ],
   "source": [
    "print(ckd_data_no_missing.shape)\n",
    "print(ckd_data_no_missing.loc[ckd_data_no_missing['class'] == 1].shape)\n",
    "print(ckd_data_no_missing.loc[ckd_data_no_missing['class'] == 0].shape)"
   ]
  },
  {
   "cell_type": "markdown",
   "metadata": {},
   "source": [
    "Now, we'll standardize the feature columns."
   ]
  },
  {
   "cell_type": "code",
   "execution_count": 10,
   "metadata": {},
   "outputs": [
    {
     "name": "stdout",
     "output_type": "stream",
     "text": [
      "age     2.314136e-16\n",
      "bp     -8.265774e-16\n",
      "bgr     3.864700e-18\n",
      "bu     -1.311656e-17\n",
      "sc      7.940203e-17\n",
      "hemo   -1.822265e-16\n",
      "pcv    -5.733810e-16\n",
      "wbcc   -2.103334e-16\n",
      "rbcc   -1.395977e-16\n",
      "dtype: float64\n",
      "age     1.0\n",
      "bp      1.0\n",
      "bgr     1.0\n",
      "bu      1.0\n",
      "sc      1.0\n",
      "hemo    1.0\n",
      "pcv     1.0\n",
      "wbcc    1.0\n",
      "rbcc    1.0\n",
      "dtype: float64\n"
     ]
    }
   ],
   "source": [
    "ckd_features = ckd_data_no_missing.iloc[:,0:9]\n",
    "ckd_features = (ckd_features - ckd_features.mean())/ckd_features.std()\n",
    "print(ckd_features.mean())\n",
    "print(ckd_features.std())\n",
    "ckd_features = ckd_features.values"
   ]
  },
  {
   "cell_type": "code",
   "execution_count": 45,
   "metadata": {},
   "outputs": [],
   "source": [
    "ckd_labels = ckd_data_no_missing.iloc[:,9].values\n",
    "ckd_labels = np.expand_dims(ckd_labels,2)"
   ]
  },
  {
   "cell_type": "markdown",
   "metadata": {},
   "source": [
    "Now we'll randomly select a subset of the data to set aside as a test set"
   ]
  },
  {
   "cell_type": "code",
   "execution_count": 27,
   "metadata": {},
   "outputs": [],
   "source": [
    "n_samps = ckd_features.shape[0]\n",
    "test_idx = np.random.choice(range(n_samps),size=int(np.round(n_samps/5.)),replace=False)\n",
    "train_idx = [x for x in range(n_samps) if not x in test_idx]\n",
    "\n",
    "train_X = ckd_features[train_idx,:]\n",
    "train_Y = ckd_labels[train_idx,:]\n",
    "test_X = ckd_features[test_idx,:]\n",
    "test_Y = ckd_labels[test_idx,:]"
   ]
  },
  {
   "cell_type": "markdown",
   "metadata": {},
   "source": [
    "[Serum creatinine](https://www.mayoclinic.org/tests-procedures/creatinine-test/about/pac-20384646) is a useful laboratory marker of kidney function and is one of the features of our dataset. Let's see how a GP classification model based solely on serum creatinine compares to one based on all features."
   ]
  },
  {
   "cell_type": "code",
   "execution_count": 37,
   "metadata": {},
   "outputs": [
    {
     "name": "stdout",
     "output_type": "stream",
     "text": [
      "\n",
      "Name : gp\n",
      "Objective : 67.26272774750079\n",
      "Number of Parameters : 2\n",
      "Number of Optimization Parameters : 2\n",
      "Updates : True\n",
      "Parameters:\n",
      "  \u001b[1mgp.            \u001b[0;0m  |  value  |  constraints  |  priors\n",
      "  \u001b[1mrbf.variance   \u001b[0;0m  |    1.0  |      +ve      |        \n",
      "  \u001b[1mrbf.lengthscale\u001b[0;0m  |    1.0  |      +ve      |        \n"
     ]
    }
   ],
   "source": [
    "train_X_crea = np.expand_dims(train_X[:,4],2)\n",
    "test_X_crea = np.expand_dims(test_X[:,4],2)\n",
    "\n",
    "kern = GPy.kern.RBF(1,variance=1.,lengthscale=1.)\n",
    "lik = GPy.likelihoods.Bernoulli()\n",
    "m_crea = GPy.core.GP(X=train_X_crea,\n",
    "                Y=train_Y,\n",
    "                kernel=kern,\n",
    "                inference_method=GPy.inference.latent_function_inference.expectation_propagation.EP(),\n",
    "                likelihood=lik)\n",
    "print(m_crea)"
   ]
  },
  {
   "cell_type": "code",
   "execution_count": 42,
   "metadata": {},
   "outputs": [],
   "source": [
    "m_crea = GPy.models.GPClassification(train_X_crea,train_Y)"
   ]
  },
  {
   "cell_type": "code",
   "execution_count": 43,
   "metadata": {},
   "outputs": [
    {
     "data": {
      "application/vnd.jupyter.widget-view+json": {
       "model_id": "c67719813972487cb459e31105ad81b1",
       "version_major": 2,
       "version_minor": 0
      },
      "text/plain": [
       "HBox(children=(VBox(children=(IntProgress(value=0, max=1000), HTML(value=''))), Box(children=(HTML(value=''),)…"
      ]
     },
     "metadata": {},
     "output_type": "display_data"
    },
    {
     "data": {
      "text/plain": [
       "<paramz.optimization.optimization.opt_lbfgsb at 0x7fd33b68feb8>"
      ]
     },
     "execution_count": 43,
     "metadata": {},
     "output_type": "execute_result"
    }
   ],
   "source": [
    "m_crea.optimize(messages=1)"
   ]
  },
  {
   "cell_type": "code",
   "execution_count": 44,
   "metadata": {},
   "outputs": [
    {
     "name": "stdout",
     "output_type": "stream",
     "text": [
      "91.48936170212767 % instances correctly classified\n",
      "          |  1         |  0         | \n",
      "----------|------------|------------|\n",
      "1         |  16.0      |  4         | \n",
      "0         |  0         |  27.0      | \n"
     ]
    },
    {
     "data": {
      "text/plain": [
       "(0.0851063829787234, 16.0, 0, 27.0, 4)"
      ]
     },
     "execution_count": 44,
     "metadata": {},
     "output_type": "execute_result"
    }
   ],
   "source": [
    "pred_probs_crea = m_crea.predict(test_X_crea)[0]\n",
    "GPy.util.classification.conf_matrix(pred_probs_crea,test_Y)"
   ]
  },
  {
   "cell_type": "code",
   "execution_count": 41,
   "metadata": {},
   "outputs": [
    {
     "name": "stdout",
     "output_type": "stream",
     "text": [
      "\n",
      "Name : gp\n",
      "Objective : 77.62777268808978\n",
      "Number of Parameters : 2\n",
      "Number of Optimization Parameters : 2\n",
      "Updates : True\n",
      "Parameters:\n",
      "  \u001b[1mgp.            \u001b[0;0m  |  value  |  constraints  |  priors\n",
      "  \u001b[1mrbf.variance   \u001b[0;0m  |    1.0  |      +ve      |        \n",
      "  \u001b[1mrbf.lengthscale\u001b[0;0m  |    1.0  |      +ve      |        \n"
     ]
    }
   ],
   "source": [
    "kern = GPy.kern.RBF(train_X.shape[1], variance=1.,lengthscale=1.)\n",
    "lik = GPy.likelihoods.Bernoulli()\n",
    "m_all = GPy.core.GP(X=train_X,\n",
    "                Y=train_Y,\n",
    "                kernel=kern,\n",
    "                inference_method=GPy.inference.latent_function_inference.expectation_propagation.EP(),\n",
    "                likelihood=lik)\n",
    "print(m_all)"
   ]
  },
  {
   "cell_type": "code",
   "execution_count": 32,
   "metadata": {},
   "outputs": [],
   "source": [
    "m_all = GPy.models.GPClassification(train_X,train_Y)"
   ]
  },
  {
   "cell_type": "code",
   "execution_count": 33,
   "metadata": {},
   "outputs": [
    {
     "data": {
      "application/vnd.jupyter.widget-view+json": {
       "model_id": "96471b7a95704b7e956f70cfc194d3e1",
       "version_major": 2,
       "version_minor": 0
      },
      "text/plain": [
       "HBox(children=(VBox(children=(IntProgress(value=0, max=1000), HTML(value=''))), Box(children=(HTML(value=''),)…"
      ]
     },
     "metadata": {},
     "output_type": "display_data"
    },
    {
     "data": {
      "text/plain": [
       "<paramz.optimization.optimization.opt_lbfgsb at 0x7fd33b715630>"
      ]
     },
     "execution_count": 33,
     "metadata": {},
     "output_type": "execute_result"
    }
   ],
   "source": [
    "m_all.optimize(messages=1)"
   ]
  },
  {
   "cell_type": "code",
   "execution_count": 34,
   "metadata": {},
   "outputs": [
    {
     "name": "stdout",
     "output_type": "stream",
     "text": [
      "97.87234042553192 % instances correctly classified\n",
      "          |  1         |  0         | \n",
      "----------|------------|------------|\n",
      "1         |  19.0      |  1         | \n",
      "0         |  0         |  27.0      | \n"
     ]
    },
    {
     "data": {
      "text/plain": [
       "(0.02127659574468085, 19.0, 0, 27.0, 1)"
      ]
     },
     "execution_count": 34,
     "metadata": {},
     "output_type": "execute_result"
    }
   ],
   "source": [
    "pred_probs = m.predict(test_X)[0]\n",
    "GPy.util.classification.conf_matrix(pred_probs, test_Y)"
   ]
  }
 ],
 "metadata": {
  "kernelspec": {
   "display_name": "Python 3",
   "language": "python",
   "name": "python3"
  },
  "language_info": {
   "codemirror_mode": {
    "name": "ipython",
    "version": 3
   },
   "file_extension": ".py",
   "mimetype": "text/x-python",
   "name": "python",
   "nbconvert_exporter": "python",
   "pygments_lexer": "ipython3",
   "version": "3.6.7"
  }
 },
 "nbformat": 4,
 "nbformat_minor": 2
}
