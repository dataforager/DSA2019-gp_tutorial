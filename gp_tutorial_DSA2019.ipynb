{
 "cells": [
  {
   "cell_type": "code",
   "execution_count": 9,
   "metadata": {},
   "outputs": [],
   "source": [
    "import matplotlib;matplotlib.rcParams['figure.figsize'] = (8,5)\n",
    "import matplotlib;matplotlib.rcParams['text.usetex'] = True\n",
    "import matplotlib;matplotlib.rcParams['font.size'] = 16\n",
    "import matplotlib;matplotlib.rcParams['font.family'] = 'serif'\n",
    "import GPy\n",
    "import numpy as np\n",
    "import pandas as pd\n",
    "from matplotlib import pyplot as plt"
   ]
  },
  {
   "cell_type": "markdown",
   "metadata": {},
   "source": [
    "Generate structured, stationary time series data (**TO DO**)"
   ]
  },
  {
   "cell_type": "markdown",
   "metadata": {},
   "source": [
    "Generate unstructured, nonstationary time series data (**TO DO**)"
   ]
  },
  {
   "cell_type": "markdown",
   "metadata": {},
   "source": [
    "Analysis of [UCI Chronic Kidney Disease dataset](https://archive.ics.uci.edu/ml/datasets/Chronic_Kidney_Disease) (GP Classification)"
   ]
  },
  {
   "cell_type": "code",
   "execution_count": 19,
   "metadata": {},
   "outputs": [
    {
     "name": "stdout",
     "output_type": "stream",
     "text": [
      "(400, 10)\n",
      "(249, 10)\n",
      "(151, 10)\n"
     ]
    }
   ],
   "source": [
    "ckd_data = pd.read_csv('chronic_kidney_disease_for_DSA_9.csv',header=0)\n",
    "print(ckd_data.shape)\n",
    "print(ckd_data.loc[ckd_data['class'] == 1].shape)\n",
    "print(ckd_data.loc[ckd_data['class'] == 0].shape)"
   ]
  },
  {
   "cell_type": "markdown",
   "metadata": {},
   "source": [
    "For the sake of this tutorial, we'll only deal with 'complete' data (rows with no missing entries). Data missingness is a common issue (esp. in the healthcare domain)."
   ]
  },
  {
   "cell_type": "code",
   "execution_count": 16,
   "metadata": {},
   "outputs": [],
   "source": [
    "missing_row_idx = pd.Series.any(pd.isna(ckd_data),1)\n",
    "ckd_data_no_missing = ckd_data.iloc[np.where(missing_row_idx.values.flatten() != True)[0],:]"
   ]
  },
  {
   "cell_type": "markdown",
   "metadata": {},
   "source": [
    "There are 9 feature columns and 1 label column.\n",
    "\n",
    "The feature columns are as follows:  \n",
    "| **Feature**  | **Description**  |  \n",
    "|---|---|  \n",
    "| age  | Age of patient  |  \n",
    "| bp  | Blood pressure  |  \n",
    "| bgr  | Blood glucose (random) |  \n",
    "| bu | Blood urea |  \n",
    "| sc | Serum creatinine |  \n",
    "| hemo | Hemoglobin |  \n",
    "| pcv | Packed cell volume |  \n",
    "| wbcc | White blood cell count |  \n",
    "| rbcc | Red blood cell count |  \n",
    "    \n",
    "The label column is called 'class' and takes values '1' (for the presence of chronic kidney disease) or '0' (for its absence)."
   ]
  },
  {
   "cell_type": "code",
   "execution_count": 20,
   "metadata": {},
   "outputs": [
    {
     "name": "stdout",
     "output_type": "stream",
     "text": [
      "      age     bp    bgr     bu     sc  hemo   pcv     wbcc  rbcc  class\n",
      "0    48.0   80.0  121.0   36.0   1.20  15.4  44.0   7800.0   5.2      1\n",
      "3    48.0   70.0  117.0   56.0   3.80  11.2  32.0   6700.0   3.9      1\n",
      "4    51.0   80.0  106.0   26.0   1.40  11.6  35.0   7300.0   4.6      1\n",
      "5    60.0   90.0   74.0   25.0   1.10  12.2  39.0   7800.0   4.4      1\n",
      "8    52.0  100.0  138.0   60.0   1.90  10.8  33.0   9600.0   4.0      1\n",
      "9    53.0   90.0   70.0  107.0   7.20   9.5  29.0  12100.0   3.7      1\n",
      "11   63.0   70.0  380.0   60.0   2.70  10.8  32.0   4500.0   3.8      1\n",
      "12   68.0   70.0  208.0   72.0   2.10   9.7  28.0  12200.0   3.4      1\n",
      "14   68.0   80.0  157.0   90.0   4.10   5.6  16.0  11000.0   2.6      1\n",
      "15   40.0   80.0   76.0  162.0   9.60   7.6  24.0   3800.0   2.8      1\n",
      "18   60.0  100.0  263.0   27.0   1.30  12.7  37.0  11400.0   4.3      1\n",
      "19   62.0   60.0  100.0   31.0   1.60  10.3  30.0   5300.0   3.7      1\n",
      "20   61.0   80.0  173.0  148.0   3.90   7.7  24.0   9200.0   3.2      1\n",
      "22   48.0   80.0   95.0  163.0   7.70   9.8  32.0   6900.0   3.4      1\n",
      "25   61.0   60.0  108.0   75.0   1.90   9.9  29.0   8400.0   3.7      1\n",
      "26   75.0   80.0  156.0   45.0   2.40  11.6  35.0  10300.0   4.0      1\n",
      "27   69.0   70.0  264.0   87.0   2.70  12.5  37.0   9600.0   4.1      1\n",
      "31   73.0   90.0  107.0   33.0   1.50  10.1  30.0   7800.0   4.0      1\n",
      "32   61.0   90.0  159.0   39.0   1.50  11.3  34.0   9600.0   4.0      1\n",
      "35   65.0   90.0  270.0   39.0   2.00  12.0  36.0   9800.0   4.9      1\n",
      "37   72.0   80.0  137.0   65.0   3.40   9.7  28.0   6900.0   2.5      1\n",
      "39   82.0   80.0  140.0   70.0   3.40  13.0  40.0   9800.0   4.2      1\n",
      "40   46.0   90.0   99.0   80.0   2.10  11.1  32.0   9100.0   4.1      1\n",
      "42   47.0  100.0  204.0   29.0   1.00   9.7  33.0   9200.0   4.5      1\n",
      "43   35.0   80.0   79.0  202.0  10.80   7.9  24.0   7900.0   3.1      1\n",
      "46   48.0   70.0  124.0   24.0   1.20  12.4  37.0   6400.0   4.7      1\n",
      "48   73.0   70.0   70.0   32.0   0.90  10.0  29.0  18900.0   3.5      1\n",
      "49   60.0   70.0  144.0   72.0   3.00   9.7  29.0  21600.0   3.5      1\n",
      "50   53.0   60.0   91.0  114.0   3.25   8.6  28.0  11000.0   3.8      1\n",
      "53   62.0   80.0  246.0   24.0   1.00  13.6  40.0   8500.0   4.7      1\n",
      "..    ...    ...    ...    ...    ...   ...   ...      ...   ...    ...\n",
      "369  75.0   70.0  107.0   48.0   0.80  13.6  46.0  10300.0   4.8      0\n",
      "370  69.0   70.0   83.0   42.0   1.20  16.2  50.0   9300.0   5.4      0\n",
      "371  28.0   60.0   79.0   50.0   0.50  17.6  51.0   6500.0   5.0      0\n",
      "372  72.0   60.0  109.0   26.0   0.90  15.0  52.0  10500.0   5.5      0\n",
      "373  61.0   70.0  133.0   38.0   1.00  13.7  47.0   9200.0   4.9      0\n",
      "374  79.0   80.0  111.0   44.0   1.20  16.3  40.0   8000.0   6.4      0\n",
      "375  70.0   80.0   74.0   41.0   0.50  15.1  48.0   9700.0   5.6      0\n",
      "376  58.0   70.0   88.0   16.0   1.10  16.4  53.0   9100.0   5.2      0\n",
      "377  64.0   70.0   97.0   27.0   0.70  13.8  49.0   6400.0   4.8      0\n",
      "379  62.0   80.0   78.0   45.0   0.60  16.1  50.0   5400.0   5.7      0\n",
      "380  59.0   60.0  113.0   23.0   1.10  15.3  54.0   6500.0   4.9      0\n",
      "381  71.0   70.0   79.0   47.0   0.50  16.6  40.0   5800.0   5.9      0\n",
      "382  48.0   80.0   75.0   22.0   0.80  16.8  51.0   6000.0   6.5      0\n",
      "383  80.0   80.0  119.0   46.0   0.70  13.9  49.0   5100.0   5.0      0\n",
      "384  57.0   60.0  132.0   18.0   1.10  15.4  42.0  11000.0   4.5      0\n",
      "385  63.0   70.0  113.0   25.0   0.60  16.5  52.0   8000.0   5.1      0\n",
      "386  46.0   70.0  100.0   47.0   0.50  16.4  43.0   5700.0   6.5      0\n",
      "387  15.0   80.0   93.0   17.0   0.90  16.7  50.0   6200.0   5.2      0\n",
      "388  51.0   80.0   94.0   15.0   1.20  15.5  46.0   9500.0   6.4      0\n",
      "389  41.0   80.0  112.0   48.0   0.70  17.0  52.0   7200.0   5.8      0\n",
      "390  52.0   80.0   99.0   25.0   0.80  15.0  52.0   6300.0   5.3      0\n",
      "391  36.0   80.0   85.0   16.0   1.10  15.6  44.0   5800.0   6.3      0\n",
      "392  57.0   80.0  133.0   48.0   1.20  14.8  46.0   6600.0   5.5      0\n",
      "393  43.0   60.0  117.0   45.0   0.70  13.0  54.0   7400.0   5.4      0\n",
      "394  50.0   80.0  137.0   46.0   0.80  14.1  45.0   9500.0   4.6      0\n",
      "395  55.0   80.0  140.0   49.0   0.50  15.7  47.0   6700.0   4.9      0\n",
      "396  42.0   70.0   75.0   31.0   1.20  16.5  54.0   7800.0   6.2      0\n",
      "397  12.0   80.0  100.0   26.0   0.60  15.8  49.0   6600.0   5.4      0\n",
      "398  17.0   60.0  114.0   50.0   1.00  14.2  51.0   7200.0   5.9      0\n",
      "399  58.0   80.0  131.0   18.0   1.10  15.8  53.0   6800.0   6.1      0\n",
      "\n",
      "[237 rows x 10 columns]\n",
      "(237, 10)\n",
      "(106, 10)\n",
      "(131, 10)\n"
     ]
    }
   ],
   "source": [
    "print(ckd_data_no_missing)\n",
    "print(ckd_data_no_missing.shape)\n",
    "print(ckd_data_no_missing.loc[ckd_data_no_missing['class'] == 1].shape)\n",
    "print(ckd_data_no_missing.loc[ckd_data_no_missing['class'] == 0].shape)"
   ]
  },
  {
   "cell_type": "markdown",
   "metadata": {},
   "source": [
    "Now, we'll standardize the feature columns."
   ]
  },
  {
   "cell_type": "code",
   "execution_count": 28,
   "metadata": {},
   "outputs": [
    {
     "name": "stdout",
     "output_type": "stream",
     "text": [
      "age     2.314136e-16\n",
      "bp     -8.265774e-16\n",
      "bgr     3.864700e-18\n",
      "bu     -1.311656e-17\n",
      "sc      7.940203e-17\n",
      "hemo   -1.822265e-16\n",
      "pcv    -5.733810e-16\n",
      "wbcc   -2.103334e-16\n",
      "rbcc   -1.395977e-16\n",
      "dtype: float64\n",
      "age     1.0\n",
      "bp      1.0\n",
      "bgr     1.0\n",
      "bu      1.0\n",
      "sc      1.0\n",
      "hemo    1.0\n",
      "pcv     1.0\n",
      "wbcc    1.0\n",
      "rbcc    1.0\n",
      "dtype: float64\n"
     ]
    }
   ],
   "source": [
    "ckd_features = ckd_data_no_missing.iloc[:,0:9]\n",
    "ckd_features = (ckd_features - ckd_features.mean())/ckd_features.std()\n",
    "print(ckd_features.mean())\n",
    "print(ckd_features.std())"
   ]
  },
  {
   "cell_type": "code",
   "execution_count": 33,
   "metadata": {},
   "outputs": [
    {
     "name": "stdout",
     "output_type": "stream",
     "text": [
      "[1 1 1 1 1 1 1 1 1 1 1 1 1 1 1 1 1 1 1 1 1 1 1 1 1 1 1 1 1 1 1 1 1 1 1 1 1\n",
      " 1 1 1 1 1 1 1 1 1 1 1 1 1 1 1 1 1 1 1 1 1 1 1 1 1 1 1 1 1 1 1 1 1 1 1 1 1\n",
      " 1 1 1 1 1 1 1 1 1 1 1 1 1 1 1 1 1 1 1 1 1 1 1 1 1 1 1 1 1 1 1 1 0 0 0 0 0\n",
      " 0 0 0 0 0 0 0 0 0 0 0 0 0 0 0 0 0 0 0 0 0 0 0 0 0 0 0 0 0 0 0 0 0 0 0 0 0\n",
      " 0 0 0 0 0 0 0 0 0 0 0 0 0 0 0 0 0 0 0 0 0 0 0 0 0 0 0 0 0 0 0 0 0 0 0 0 0\n",
      " 0 0 0 0 0 0 0 0 0 0 0 0 0 0 0 0 0 0 0 0 0 0 0 0 0 0 0 0 0 0 0 0 0 0 0 0 0\n",
      " 0 0 0 0 0 0 0 0 0 0 0 0 0 0 0]\n"
     ]
    }
   ],
   "source": [
    "ckd_labels = ckd_data_no_missing.iloc[:,9]\n",
    "print(ckd_labels.values)"
   ]
  },
  {
   "cell_type": "code",
   "execution_count": 34,
   "metadata": {},
   "outputs": [
    {
     "ename": "AssertionError",
     "evalue": "",
     "output_type": "error",
     "traceback": [
      "\u001b[0;31m---------------------------------------------------------------------------\u001b[0m",
      "\u001b[0;31mAssertionError\u001b[0m                            Traceback (most recent call last)",
      "\u001b[0;32m<ipython-input-34-505f112f9254>\u001b[0m in \u001b[0;36m<module>\u001b[0;34m\u001b[0m\n\u001b[1;32m      5\u001b[0m                 \u001b[0mkernel\u001b[0m\u001b[0;34m=\u001b[0m\u001b[0mkern\u001b[0m\u001b[0;34m,\u001b[0m\u001b[0;34m\u001b[0m\u001b[0;34m\u001b[0m\u001b[0m\n\u001b[1;32m      6\u001b[0m                 \u001b[0minference_method\u001b[0m\u001b[0;34m=\u001b[0m\u001b[0mGPy\u001b[0m\u001b[0;34m.\u001b[0m\u001b[0minference\u001b[0m\u001b[0;34m.\u001b[0m\u001b[0mlatent_function_inference\u001b[0m\u001b[0;34m.\u001b[0m\u001b[0mexpectation_propagation\u001b[0m\u001b[0;34m.\u001b[0m\u001b[0mEP\u001b[0m\u001b[0;34m(\u001b[0m\u001b[0;34m)\u001b[0m\u001b[0;34m,\u001b[0m\u001b[0;34m\u001b[0m\u001b[0;34m\u001b[0m\u001b[0m\n\u001b[0;32m----> 7\u001b[0;31m                 likelihood=lik)\n\u001b[0m\u001b[1;32m      8\u001b[0m \u001b[0mprint\u001b[0m\u001b[0;34m(\u001b[0m\u001b[0mm\u001b[0m\u001b[0;34m)\u001b[0m\u001b[0;34m\u001b[0m\u001b[0;34m\u001b[0m\u001b[0m\n",
      "\u001b[0;32m/usr/local/lib/python3.6/dist-packages/paramz/parameterized.py\u001b[0m in \u001b[0;36m__call__\u001b[0;34m(self, *args, **kw)\u001b[0m\n\u001b[1;32m     51\u001b[0m         \u001b[0;31m#import ipdb;ipdb.set_trace()\u001b[0m\u001b[0;34m\u001b[0m\u001b[0;34m\u001b[0m\u001b[0;34m\u001b[0m\u001b[0m\n\u001b[1;32m     52\u001b[0m         \u001b[0minitialize\u001b[0m \u001b[0;34m=\u001b[0m \u001b[0mkw\u001b[0m\u001b[0;34m.\u001b[0m\u001b[0mpop\u001b[0m\u001b[0;34m(\u001b[0m\u001b[0;34m'initialize'\u001b[0m\u001b[0;34m,\u001b[0m \u001b[0;32mTrue\u001b[0m\u001b[0;34m)\u001b[0m\u001b[0;34m\u001b[0m\u001b[0;34m\u001b[0m\u001b[0m\n\u001b[0;32m---> 53\u001b[0;31m         \u001b[0mself\u001b[0m \u001b[0;34m=\u001b[0m \u001b[0msuper\u001b[0m\u001b[0;34m(\u001b[0m\u001b[0mParametersChangedMeta\u001b[0m\u001b[0;34m,\u001b[0m \u001b[0mself\u001b[0m\u001b[0;34m)\u001b[0m\u001b[0;34m.\u001b[0m\u001b[0m__call__\u001b[0m\u001b[0;34m(\u001b[0m\u001b[0;34m*\u001b[0m\u001b[0margs\u001b[0m\u001b[0;34m,\u001b[0m \u001b[0;34m**\u001b[0m\u001b[0mkw\u001b[0m\u001b[0;34m)\u001b[0m\u001b[0;34m\u001b[0m\u001b[0;34m\u001b[0m\u001b[0m\n\u001b[0m\u001b[1;32m     54\u001b[0m         \u001b[0;31m#logger.debug(\"finished init\")\u001b[0m\u001b[0;34m\u001b[0m\u001b[0;34m\u001b[0m\u001b[0;34m\u001b[0m\u001b[0m\n\u001b[1;32m     55\u001b[0m         \u001b[0mself\u001b[0m\u001b[0;34m.\u001b[0m\u001b[0m_in_init_\u001b[0m \u001b[0;34m=\u001b[0m \u001b[0;32mFalse\u001b[0m\u001b[0;34m\u001b[0m\u001b[0;34m\u001b[0m\u001b[0m\n",
      "\u001b[0;32m/usr/local/lib/python3.6/dist-packages/GPy/core/gp.py\u001b[0m in \u001b[0;36m__init__\u001b[0;34m(self, X, Y, kernel, likelihood, mean_function, inference_method, name, Y_metadata, normalizer)\u001b[0m\n\u001b[1;32m     46\u001b[0m         \u001b[0mself\u001b[0m\u001b[0;34m.\u001b[0m\u001b[0mnum_data\u001b[0m\u001b[0;34m,\u001b[0m \u001b[0mself\u001b[0m\u001b[0;34m.\u001b[0m\u001b[0minput_dim\u001b[0m \u001b[0;34m=\u001b[0m \u001b[0mself\u001b[0m\u001b[0;34m.\u001b[0m\u001b[0mX\u001b[0m\u001b[0;34m.\u001b[0m\u001b[0mshape\u001b[0m\u001b[0;34m\u001b[0m\u001b[0;34m\u001b[0m\u001b[0m\n\u001b[1;32m     47\u001b[0m \u001b[0;34m\u001b[0m\u001b[0m\n\u001b[0;32m---> 48\u001b[0;31m         \u001b[0;32massert\u001b[0m \u001b[0mY\u001b[0m\u001b[0;34m.\u001b[0m\u001b[0mndim\u001b[0m \u001b[0;34m==\u001b[0m \u001b[0;36m2\u001b[0m\u001b[0;34m\u001b[0m\u001b[0;34m\u001b[0m\u001b[0m\n\u001b[0m\u001b[1;32m     49\u001b[0m         \u001b[0mlogger\u001b[0m\u001b[0;34m.\u001b[0m\u001b[0minfo\u001b[0m\u001b[0;34m(\u001b[0m\u001b[0;34m\"initializing Y\"\u001b[0m\u001b[0;34m)\u001b[0m\u001b[0;34m\u001b[0m\u001b[0;34m\u001b[0m\u001b[0m\n\u001b[1;32m     50\u001b[0m \u001b[0;34m\u001b[0m\u001b[0m\n",
      "\u001b[0;31mAssertionError\u001b[0m: "
     ]
    }
   ],
   "source": [
    "kern = GPy.kern.RBF(1, variance=7., lengthscale=0.2)\n",
    "lik = GPy.likelihoods.Bernoulli()\n",
    "m = GPy.core.GP(X=ckd_features.values,\n",
    "                Y=ckd_labels.values,\n",
    "                kernel=kern,\n",
    "                inference_method=GPy.inference.latent_function_inference.expectation_propagation.EP(),\n",
    "                likelihood=lik)\n",
    "print(m)"
   ]
  },
  {
   "cell_type": "code",
   "execution_count": 35,
   "metadata": {},
   "outputs": [
    {
     "data": {
      "text/plain": [
       "1"
      ]
     },
     "execution_count": 35,
     "metadata": {},
     "output_type": "execute_result"
    }
   ],
   "source": [
    "ckd_labels.values.ndim"
   ]
  },
  {
   "cell_type": "code",
   "execution_count": null,
   "metadata": {},
   "outputs": [],
   "source": [
    "ckd_labels.values.expand_dims()"
   ]
  }
 ],
 "metadata": {
  "kernelspec": {
   "display_name": "Python 3",
   "language": "python",
   "name": "python3"
  },
  "language_info": {
   "codemirror_mode": {
    "name": "ipython",
    "version": 3
   },
   "file_extension": ".py",
   "mimetype": "text/x-python",
   "name": "python",
   "nbconvert_exporter": "python",
   "pygments_lexer": "ipython3",
   "version": "3.6.7"
  }
 },
 "nbformat": 4,
 "nbformat_minor": 2
}
